{
 "cells": [
  {
   "cell_type": "code",
   "execution_count": 1,
   "id": "d7d494aa",
   "metadata": {},
   "outputs": [],
   "source": [
    "import requests\n",
    "from bs4 import BeautifulSoup"
   ]
  },
  {
   "cell_type": "code",
   "execution_count": 2,
   "id": "7cb3a2a8",
   "metadata": {},
   "outputs": [],
   "source": [
    "urls = ['https://www.mayoclinic.org/diseases-conditions/depression/symptoms-causes/syc-20356007',\n",
    "        'https://www.mayoclinic.org/diseases-conditions/anxiety/symptoms-causes/syc-20350961',\n",
    "       'https://www.mayoclinic.org/diseases-conditions/dissociative-disorders/symptoms-causes/syc-20355215',\n",
    "       'https://www.mayoclinic.org/diseases-conditions/adjustment-disorders/symptoms-causes/syc-20355224',\n",
    "       'https://www.mayoclinic.org/diseases-conditions/obsessive-compulsive-disorder/symptoms-causes/syc-20354432',\n",
    "       'https://www.mayoclinic.org/diseases-conditions/compulsive-gambling/symptoms-causes/syc-20355178',\n",
    "       'https://www.mayoclinic.org/diseases-conditions/somatic-symptom-disorder/symptoms-causes/syc-20377776',\n",
    "        'https://www.mayoclinic.org/diseases-conditions/female-sexual-dysfunction/symptoms-causes/syc-20372549',\n",
    "       'https://www.mayoclinic.org/diseases-conditions/anorexia-nervosa/symptoms-causes/syc-20353591',\n",
    "       'https://www.mayoclinic.org/diseases-conditions/schizophrenia/symptoms-causes/syc-20354443',\n",
    "       'https://www.mayoclinic.org/diseases-conditions/personality-disorders/symptoms-causes/syc-20354463',\n",
    "       'https://www.mayoclinic.org/diseases-conditions/mental-illness/symptoms-causes/syc-20374968',\n",
    "        'https://www.mayoclinic.org/diseases-conditions/factitious-disorder/symptoms-causes/syc-20356028',\n",
    "       'https://www.mayoclinic.org/diseases-conditions/adjustment-disorders/symptoms-causes/syc-20355224']"
   ]
  },
  {
   "cell_type": "code",
   "execution_count": 3,
   "id": "2309051a",
   "metadata": {},
   "outputs": [],
   "source": [
    "counter = 1\n",
    "for url in urls:\n",
    "    r = requests.get(url)\n",
    "    htmlContent = r.content\n",
    "    soup = BeautifulSoup(htmlContent, 'html.parser')\n",
    "    symptoms= (soup.find(string=\"Symptoms\").find_next('ul'))\n",
    "    title_name =   soup.title.text\n",
    "    symptom_list = symptoms.text\n",
    "\n",
    "    #open text file\n",
    "    text_file = open('C:/Users/91966/Desktop/trias/mentalhealth_disorder.txt', \"a\")\n",
    "\n",
    "    #write string to file\n",
    "    text_file.write(f'{counter} - Title:')\n",
    "    text_file.write(title_name)\n",
    "    text_file.write('\\nSymtoms: ')\n",
    "    text_file.write(symptom_list)\n",
    "    text_file.write('\\n\\n')\n",
    "\n",
    "    #close file\n",
    "    text_file.close()\n",
    "    counter = counter + 1"
   ]
  }
 ],
 "metadata": {
  "kernelspec": {
   "display_name": "Python 3 (ipykernel)",
   "language": "python",
   "name": "python3"
  },
  "language_info": {
   "codemirror_mode": {
    "name": "ipython",
    "version": 3
   },
   "file_extension": ".py",
   "mimetype": "text/x-python",
   "name": "python",
   "nbconvert_exporter": "python",
   "pygments_lexer": "ipython3",
   "version": "3.9.11"
  }
 },
 "nbformat": 4,
 "nbformat_minor": 5
}
